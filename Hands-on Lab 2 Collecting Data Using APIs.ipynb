{
 "cells": [
  {
   "cell_type": "code",
   "execution_count": 1,
   "id": "f891c8fb-8590-4f3e-8029-7015f5d1a667",
   "metadata": {},
   "outputs": [],
   "source": [
    "#Import required libraries\n",
    "import pandas as pd\n",
    "import json"
   ]
  },
  {
   "cell_type": "code",
   "execution_count": 3,
   "id": "621ef1cd-ccc8-4eff-95de-70ae54520ba3",
   "metadata": {},
   "outputs": [
    {
     "name": "stdout",
     "output_type": "stream",
     "text": [
      "   Id                                          Job Title  \\\n",
      "0   0                              Digital Media Planner   \n",
      "1   1                           Online Bidding Executive   \n",
      "2   2  Trainee Research/ Research Executive- Hi- Tech...   \n",
      "3   3                                  Technical Support   \n",
      "4   4                  Software Test Engineer -hyderabad   \n",
      "\n",
      "  Job Experience Required                                         Key Skills  \\\n",
      "0              5 - 10 yrs                      Media Planning| Digital Media   \n",
      "1               2 - 5 yrs  pre sales| closing| software knowledge| client...   \n",
      "2               0 - 1 yrs  Computer science| Fabrication| Quality check| ...   \n",
      "3               0 - 5 yrs                                  Technical Support   \n",
      "4               2 - 5 yrs  manual testing| test engineering| test cases| ...   \n",
      "\n",
      "                                Role Category       Location  \\\n",
      "0                                 Advertising    Los Angeles   \n",
      "1                                Retail Sales       New York   \n",
      "2                                         R&D  San Francisco   \n",
      "3  Admin/Maintenance/Security/Datawarehousing  Washington DC   \n",
      "4                        Programming & Design         Boston   \n",
      "\n",
      "                                     Functional Area  \\\n",
      "0  Marketing , Advertising , MR , PR , Media Plan...   \n",
      "1              Sales , Retail , Business Development   \n",
      "2                           Engineering Design , R&D   \n",
      "3  IT Software - Application Programming , Mainte...   \n",
      "4                         IT Software - QA & Testing   \n",
      "\n",
      "                                Industry                              Role  \n",
      "0  Advertising, PR, MR, Event Management  Media Planning Executive/Manager  \n",
      "1         IT-Software, Software Services           Sales Executive/Officer  \n",
      "2                  Recruitment, Staffing                     R&D Executive  \n",
      "3         IT-Software, Software Services        Technical Support Engineer  \n",
      "4         IT-Software, Software Services                  Testing Engineer  \n"
     ]
    }
   ],
   "source": [
    "# Step 1: Load the JSON data into a DataFrame\n",
    "data_url = \"https://cf-courses-data.s3.us.cloud-object-storage.appdomain.cloud/IBM-DA0321EN-SkillsNetwork/labs/module%201/Accessing%20Data%20Using%20APIs/jobs.json\"\n",
    "df = pd.read_json(data_url)\n",
    "\n",
    "# Display the first few rows to ensure data is loaded correctly\n",
    "print(df.head())\n"
   ]
  },
  {
   "cell_type": "code",
   "execution_count": 5,
   "id": "a7aec32f-269f-4574-b08b-d15b45db039e",
   "metadata": {},
   "outputs": [
    {
     "name": "stdout",
     "output_type": "stream",
     "text": [
      "Number of job postings for Python: 1173\n"
     ]
    }
   ],
   "source": [
    "def get_number_of_jobs_T(technology):\n",
    "    # Filter the DataFrame to find jobs that mention the specified technology in 'Key Skills'\n",
    "    filtered_df = df[df['Key Skills'].str.contains(technology, case=False, na=False)]\n",
    "    \n",
    "    # Count the number of job postings that match the filter\n",
    "    number_of_jobs = filtered_df.shape[0]\n",
    "    \n",
    "    return technology, number_of_jobs\n",
    "\n",
    "# Test the function for 'Python'\n",
    "tech, count = get_number_of_jobs_T(\"Python\")\n",
    "print(f\"Number of job postings for {tech}: {count}\")\n"
   ]
  },
  {
   "cell_type": "code",
   "execution_count": 7,
   "id": "19036cc4-4e7a-4d6a-898a-2b3540d5393e",
   "metadata": {},
   "outputs": [
    {
     "data": {
      "text/plain": [
       "('Python', 1173)"
      ]
     },
     "execution_count": 7,
     "metadata": {},
     "output_type": "execute_result"
    }
   ],
   "source": [
    "get_number_of_jobs_T(\"Python\")\n"
   ]
  },
  {
   "cell_type": "code",
   "execution_count": 9,
   "id": "7fdb33aa-0216-43a4-a045-1dfa489582be",
   "metadata": {},
   "outputs": [],
   "source": [
    "def get_number_of_jobs_L(location):\n",
    "    # Filter the DataFrame to find jobs that match the specified location\n",
    "    filtered_df = df[df['Location'].str.contains(location, case=False, na=False)]\n",
    "    \n",
    "    # Count the number of job postings that match the filter\n",
    "    number_of_jobs = filtered_df.shape[0]\n",
    "    \n",
    "    return location, number_of_jobs\n"
   ]
  },
  {
   "cell_type": "code",
   "execution_count": 11,
   "id": "a6cdc112-6cd7-4286-a1c1-1d4771ce7345",
   "metadata": {},
   "outputs": [
    {
     "data": {
      "text/plain": [
       "('Los Angeles', 640)"
      ]
     },
     "execution_count": 11,
     "metadata": {},
     "output_type": "execute_result"
    }
   ],
   "source": [
    "get_number_of_jobs_L(\"Los Angeles\")\n"
   ]
  },
  {
   "cell_type": "code",
   "execution_count": 15,
   "id": "e8340652-06f0-493d-a96f-35575b36cc19",
   "metadata": {},
   "outputs": [
    {
     "name": "stdout",
     "output_type": "stream",
     "text": [
      "Number of job postings in Los Angeles: 640\n",
      "Number of job postings in New York: 3226\n",
      "Number of job postings in San Francisco: 435\n",
      "Number of job postings in Washington DC: 5316\n",
      "Number of job postings in Seattle: 3375\n",
      "Number of job postings in Austin: 434\n",
      "Number of job postings in Detroit: 3945\n"
     ]
    }
   ],
   "source": [
    "# Define the list of locations\n",
    "locations = [\"Los Angeles\", \"New York\", \"San Francisco\", \"Washington DC\", \"Seattle\", \"Austin\", \"Detroit\"]\n",
    "\n",
    "# Initialize an empty list to store the results\n",
    "results = []\n",
    "\n",
    "# Loop through each location in the list and get the number of job postings\n",
    "for location in locations:\n",
    "    loc, count = get_number_of_jobs_L(location)\n",
    "    results.append((loc, count))\n",
    "\n",
    "# Display the results\n",
    "for loc, count in results:\n",
    "    print(f\"Number of job postings in {loc}: {count}\")\n",
    "\n"
   ]
  },
  {
   "cell_type": "code",
   "execution_count": 17,
   "id": "5da5a260-35ff-4468-bfd8-6e8327821fdd",
   "metadata": {},
   "outputs": [
    {
     "name": "stdout",
     "output_type": "stream",
     "text": [
      "Results have been written to 'job_postings_by_location.xlsx'\n"
     ]
    }
   ],
   "source": [
    "# Convert the results list into a DataFrame\n",
    "df_results = pd.DataFrame(results, columns=[\"Location\", \"Number of Jobs\"])\n",
    "\n",
    "# Write the DataFrame to an Excel file\n",
    "df_results.to_excel(\"job_postings_by_location.xlsx\", index=False)\n",
    "\n",
    "print(\"Results have been written to 'job_postings_by_location.xlsx'\")\n"
   ]
  },
  {
   "cell_type": "code",
   "execution_count": null,
   "id": "5d6e9615-313e-496b-9506-06f8f66b08e1",
   "metadata": {},
   "outputs": [],
   "source": []
  }
 ],
 "metadata": {
  "kernelspec": {
   "display_name": "Python 3 (ipykernel)",
   "language": "python",
   "name": "python3"
  },
  "language_info": {
   "codemirror_mode": {
    "name": "ipython",
    "version": 3
   },
   "file_extension": ".py",
   "mimetype": "text/x-python",
   "name": "python",
   "nbconvert_exporter": "python",
   "pygments_lexer": "ipython3",
   "version": "3.11.5"
  }
 },
 "nbformat": 4,
 "nbformat_minor": 5
}
